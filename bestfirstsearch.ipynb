{
 "cells": [
  {
   "cell_type": "code",
   "execution_count": 2,
   "id": "convinced-background",
   "metadata": {},
   "outputs": [
    {
     "name": "stdout",
     "output_type": "stream",
     "text": [
      "[[0 1 0 0 0 0 0 1 0 0]\n",
      " [1 0 0 0 1 0 0 0 0 0]\n",
      " [0 0 0 0 1 0 0 0 0 0]\n",
      " [0 0 0 0 0 1 1 0 0 0]\n",
      " [0 1 1 0 0 1 0 0 0 0]\n",
      " [0 0 0 1 1 0 0 1 1 0]\n",
      " [0 0 0 1 0 0 0 0 0 1]\n",
      " [1 0 0 0 0 1 0 0 0 0]\n",
      " [0 0 0 0 0 1 0 0 0 1]\n",
      " [0 0 0 0 0 0 1 0 1 0]]\n"
     ]
    }
   ],
   "source": [
    "import numpy as np\n",
    "g=np.array([[0,1,0,0,0,0,0,1,0,0],[1,0,0,0,1,0,0,0,0,0],[0,0,0,0,1,0,0,0,0,0],[0,0,0,0,0,1,1,0,0,0],[0,1,1,0,0,1,0,0,0,0],[0,0,0,1,1,0,0,1,1,0],[0,0,0,1,0,0,0,0,0,1],[1,0,0,0,0,1,0,0,0,0],[0,0,0,0,0,1,0,0,0,1],[0,0,0,0,0,0,1,0,1,0]])\n",
    "print(g)"
   ]
  },
  {
   "cell_type": "code",
   "execution_count": 3,
   "id": "resistant-taste",
   "metadata": {},
   "outputs": [
    {
     "name": "stdout",
     "output_type": "stream",
     "text": [
      "[50 40 30 20 30 20 10 30 20  0]\n"
     ]
    }
   ],
   "source": [
    "mndis=np.array([50,40,30,20,30,20,10,30,20,0])\n",
    "print(mndis)"
   ]
  },
  {
   "cell_type": "code",
   "execution_count": 4,
   "id": "italic-debate",
   "metadata": {},
   "outputs": [],
   "source": [
    "op={}\n",
    "def func(node):\n",
    "    for i in range(10):\n",
    "        if(g[node][i]==1):\n",
    "            op.update({i:mndis[i]})\n",
    "    sorted_dict = {}\n",
    "    sorted_keys = sorted(op, key=op.get)\n",
    "    for w in sorted_keys:\n",
    "        sorted_dict[w] = op[w]\n",
    "    return sorted_dict"
   ]
  },
  {
   "cell_type": "code",
   "execution_count": 5,
   "id": "exclusive-edmonton",
   "metadata": {},
   "outputs": [
    {
     "name": "stdout",
     "output_type": "stream",
     "text": [
      "<built-in method keys of dict object at 0x114c8d820>\n",
      "{7: 30, 1: 40} queue\n",
      "{0: 50} explored\n",
      "{5: 20, 1: 40} queue\n",
      "{0: 50, 7: 30} explored\n",
      "{8: 20, 3: 20, 4: 30, 1: 40} queue\n",
      "{0: 50, 7: 30, 5: 20} explored\n",
      "{9: 0, 3: 20, 4: 30, 1: 40} queue\n",
      "{0: 50, 7: 30, 5: 20, 8: 20} explored\n"
     ]
    }
   ],
   "source": [
    "queue={7:30,1:40}\n",
    "stack={0:50}\n",
    "print(queue.keys)\n",
    "for i in range(10):\n",
    "    print(queue,\"queue\")\n",
    "    print(stack,\"explored\")\n",
    "    curentnode=list(queue.keys())[0]\n",
    "    stack[curentnode]=queue[curentnode]\n",
    "    del queue[curentnode]\n",
    "    t=func(curentnode)\n",
    "    f=set(list(t.keys()))\n",
    "    s=set(list(stack.keys()))\n",
    "    k=list(f-s.intersection(f))\n",
    "    for j in k:\n",
    "        queue[j]=t[j]\n",
    "\n",
    "    sorted_dict = {}\n",
    "    sorted_keys = sorted(queue, key=queue.get)\n",
    "    for w in sorted_keys:\n",
    "        sorted_dict[w] = queue[w]\n",
    "    queue=sorted_dict   \n",
    "    #node ke acjo age ke frontier honge unko sorted list\n",
    "    #usko queue me dal do\n",
    "    \n",
    "    #stack ko update kerdo currentnode se\n",
    "    if(curentnode==9):\n",
    "        break\n"
   ]
  },
  {
   "cell_type": "code",
   "execution_count": null,
   "id": "olive-satin",
   "metadata": {},
   "outputs": [],
   "source": []
  }
 ],
 "metadata": {
  "kernelspec": {
   "display_name": "Python 3",
   "language": "python",
   "name": "python3"
  },
  "language_info": {
   "codemirror_mode": {
    "name": "ipython",
    "version": 3
   },
   "file_extension": ".py",
   "mimetype": "text/x-python",
   "name": "python",
   "nbconvert_exporter": "python",
   "pygments_lexer": "ipython3",
   "version": "3.7.9"
  }
 },
 "nbformat": 4,
 "nbformat_minor": 5
}
